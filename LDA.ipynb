{
 "cells": [
  {
   "cell_type": "code",
   "execution_count": 1,
   "metadata": {},
   "outputs": [],
   "source": [
    "import numpy as np\n",
    "import pandas as pd\n",
    "import matplotlib.pyplot as plt\n",
    "from sklearn.preprocessing import LabelEncoder,OneHotEncoder\n",
    "from sklearn import preprocessing\n",
    "from sklearn.feature_selection import RFE\n",
    "from sklearn.tree import DecisionTreeClassifier\n",
    "from sklearn.model_selection import train_test_split \n",
    "import warnings\n",
    "from sklearn.metrics import accuracy_score,confusion_matrix,precision_score,recall_score\n",
    "import seaborn as sns\n",
    "\n",
    "\n",
    "pd.set_option('display.max_columns', None)\n",
    "pd.set_option('display.expand_frame_repr', False)\n",
    "warnings.filterwarnings(\"ignore\")"
   ]
  },
  {
   "cell_type": "code",
   "execution_count": 2,
   "metadata": {
    "scrolled": false
   },
   "outputs": [],
   "source": [
    "datatrain = pd.read_csv(r\"D:\\Travail\\Poornima\\Dataset\\NSL-KDD\\KDDTrain+.csv\")\n",
    "datatrain.drop('id', axis='columns', inplace=True)\n",
    "datatest = pd.read_csv(r\"D:\\Travail\\Poornima\\Dataset\\NSL-KDD\\KDDTest+.csv\")"
   ]
  },
  {
   "cell_type": "code",
   "execution_count": 3,
   "metadata": {},
   "outputs": [],
   "source": [
    "for col_name in datatrain.columns:\n",
    "    if datatrain[col_name].dtypes == 'object' :\n",
    "        unique_cat = len(datatrain[col_name].unique())\n",
    "for col_name in datatest.columns:\n",
    "    if datatest[col_name].dtypes == 'object' :\n",
    "        unique_cat = len(datatest[col_name].unique())\n",
    "        \n",
    "categorical_columns=['protocol_type', 'service', 'flag'] \n",
    "\n",
    "datatrain_cat_values = datatrain[categorical_columns]\n",
    "datatest_cat_values = datatest[categorical_columns]\n",
    "\n",
    "unique_protocol=sorted(datatrain.protocol_type.unique())\n",
    "string1 = 'Protocol_type_'\n",
    "unique_protocol2=[string1 + x for x in unique_protocol]\n",
    "\n",
    "unique_service=sorted(datatrain.service.unique())\n",
    "string2 = 'service_'\n",
    "unique_service2=[string2 + x for x in unique_service]\n",
    "\n",
    "unique_flag=sorted(datatrain.flag.unique())\n",
    "string3 = 'flag_'\n",
    "unique_flag2=[string3 + x for x in unique_flag]\n",
    "\n",
    "dumcols=unique_protocol2 + unique_service2 + unique_flag2\n",
    "\n",
    "unique_service_test=sorted(datatest.service.unique())\n",
    "unique_service2_test=[string2 + x for x in unique_service_test]\n",
    "testdumcols=unique_protocol2 + unique_service2_test + unique_flag2\n",
    "\n",
    "datatrain_cat_values_enc=datatrain_cat_values.apply(LabelEncoder().fit_transform)\n",
    "datatest_cat_values_enc=datatest_cat_values.apply(LabelEncoder().fit_transform)\n",
    "\n",
    "enc = OneHotEncoder()\n",
    "datatrain_cat_values_ENC = enc.fit_transform(datatrain_cat_values_enc)\n",
    "datatrain_cat_data = pd.DataFrame(datatrain_cat_values_ENC.toarray(),columns=dumcols)\n",
    "\n",
    "dataset_cat_values_ENC = enc.fit_transform(datatest_cat_values_enc)\n",
    "datatest_cat_data = pd.DataFrame(dataset_cat_values_ENC.toarray(),columns=testdumcols)\n",
    "\n",
    "trainservice=datatrain['service'].tolist()\n",
    "testservice= datatest['service'].tolist()\n",
    "difference=list(set(trainservice) - set(testservice))\n",
    "string = 'service_'\n",
    "difference=[string + x for x in difference]\n",
    "\n",
    "trainservice=datatrain['service'].tolist()\n",
    "testservice= datatest['service'].tolist()\n",
    "difference=list(set(trainservice) - set(testservice))\n",
    "string = 'service_'\n",
    "difference=[string + x for x in difference]\n",
    "\n",
    "for col in difference:\n",
    "    datatest_cat_data[col] = 0\n",
    "\n",
    "    \n",
    "newdf=datatrain.join(datatrain_cat_data)\n",
    "newdf.drop('flag', axis=1, inplace=True)\n",
    "newdf.drop('protocol_type', axis=1, inplace=True)\n",
    "newdf.drop('service', axis=1, inplace=True)\n",
    "\n",
    "newdf_test=datatest.join(datatest_cat_data)\n",
    "newdf_test.drop('flag', axis=1, inplace=True)\n",
    "newdf_test.drop('protocol_type', axis=1, inplace=True)\n",
    "newdf_test.drop('service', axis=1, inplace=True)\n",
    "\n",
    "labeldf=newdf['class']\n",
    "labeldf_test=newdf_test['class']\n",
    "\n",
    "newlabeldf=labeldf.replace({ 'normal' : 0, 'anomaly' : 1})\n",
    "newlabeldf_test=labeldf_test.replace({ 'normal' : 0, 'anomaly' : 1})\n",
    "\n",
    "newdf['class'] = newlabeldf\n",
    "newdf_test['class'] = newlabeldf_test\n",
    "\n",
    "\n",
    "X_train = newdf.drop('class',1)\n",
    "Y_train = newdf[\"class\"]\n",
    "\n",
    "X_test = newdf_test.drop('class',1)\n",
    "Y_test = newdf_test[\"class\"]\n",
    "\n",
    "colNames=list(X_train)\n",
    "colNames_test=list(X_test)\n",
    "\n",
    "scaler1 = preprocessing.StandardScaler().fit(X_train)\n",
    "X_train = scaler1.transform(X_train)  \n",
    "\n",
    "scaler2 = preprocessing.StandardScaler().fit(X_test)\n",
    "X_test = scaler2.transform(X_test) \n",
    "\n",
    "\n",
    "\n",
    "\n",
    "\n",
    "\n",
    "#from sklearn.feature_selection import SelectPercentile, f_classif\n",
    "#np.seterr(divide='ignore', invalid='ignore');\n",
    "#selector=SelectPercentile(f_classif, percentile=10)\n",
    "\n",
    "#X_newtrain = selector.fit_transform(X_train,Y_train)\n",
    "#X_newtest = selector.fit_transform(X_test,Y_test)\n",
    "\n",
    "#true=selector.get_support()\n",
    "#newcolindex_data=[i for i, x in enumerate(true) if x]\n",
    "#newcolname_data=list( colNames[i] for i in newcolindex_data )\n",
    "\n",
    "\n",
    "#clf = DecisionTreeClassifier(random_state=0)\n",
    "#rfe = RFE(clf, n_features_to_select=1)\n",
    "#rfe.fit(X_newtrain, Y_train.astype('int'))\n",
    "\n",
    "#clf = DecisionTreeClassifier(random_state=0)\n",
    "#rfe = RFE(estimator=clf, n_features_to_select=13, step=1)\n",
    "#rfe.fit(X_train, Y_test.astype(int))\n",
    "#X_rfetrain=rfe.transform(X_train)\n",
    "#true=rfe.support_\n",
    "#rfecolindex_data=[i for i, x in enumerate(true) if x]\n",
    "#rfecolname_data=list(colNames[i] for i in rfecolindex_data)\n",
    "\n",
    "#clf_DTC=DecisionTreeClassifier(random_state=0)\n",
    "#clf_DTC.fit(X_train, Y_train.astype(int))\n",
    "\n",
    "#y_pred = clf_DTC.predict(X_test)\n",
    "\n",
    "\n",
    "#print('Training Accuracy = ' + str(accuracy_score(Y_test, y_pred)*100) + \"%\")\n",
    "\n",
    "\n"
   ]
  },
  {
   "cell_type": "code",
   "execution_count": 4,
   "metadata": {},
   "outputs": [
    {
     "name": "stdout",
     "output_type": "stream",
     "text": [
      "Training time: 2.5448997020721436s\n",
      "Training Accuracy = 96.62626118295191%\n",
      "\n",
      "Testing Accuracy = 75.4347054648687%\n",
      "Testing Precision = 91.20072291878459%\n",
      "Testing Recall = 62.91591989402322%\n"
     ]
    }
   ],
   "source": [
    "from sklearn.discriminant_analysis import LinearDiscriminantAnalysis\n",
    "\n",
    "import time\n",
    "start_time = time.time()\n",
    "\n",
    "lda = LinearDiscriminantAnalysis(n_components=1)\n",
    "lda.fit(X_train, Y_train)\n",
    "\n",
    "\n",
    "stop_time=time.time()\n",
    "print(f\"Training time: {stop_time - start_time}s\")\n",
    "\n",
    "y_pred_training=lda.predict(X_train)\n",
    "print('Training Accuracy = ' + str(accuracy_score(Y_train, y_pred_training)*100) + \"%\")\n",
    "\n",
    "y_pred_test=lda.predict(X_test)\n",
    "print('\\nTesting Accuracy = ' + str(accuracy_score(Y_test, y_pred_test)*100) + \"%\")\n",
    "print('Testing Precision = ' + str(precision_score(Y_test, y_pred_test)*100) + \"%\")\n",
    "print('Testing Recall = ' + str(recall_score(Y_test, y_pred_test)*100) + \"%\")\n"
   ]
  },
  {
   "cell_type": "code",
   "execution_count": 5,
   "metadata": {},
   "outputs": [
    {
     "data": {
      "text/plain": [
       "<AxesSubplot:>"
      ]
     },
     "execution_count": 5,
     "metadata": {},
     "output_type": "execute_result"
    },
    {
     "data": {
      "image/png": "[encoded data removed]",
      "text/plain": [
       "<Figure size 432x288 with 2 Axes>"
      ]
     },
     "metadata": {
      "needs_background": "light"
     },
     "output_type": "display_data"
    }
   ],
   "source": [
    "cf_matrix = confusion_matrix(Y_test, y_pred_test)\n",
    "sns.heatmap(cf_matrix, annot=True,cmap='Blues', fmt='g')"
   ]
  },
  {
   "cell_type": "code",
   "execution_count": 6,
   "metadata": {},
   "outputs": [],
   "source": [
    "import pickle\n",
    "\n",
    "#\n",
    "# Create your model here (same as above)\n",
    "#\n",
    "\n",
    "# Save to file in the current working directory\n",
    "pkl_filename = \"pkl/LDA_model.pkl\"\n",
    "with open(pkl_filename, 'wb') as file:\n",
    "    pickle.dump(lda, file)"
   ]
  }
 ],
 "metadata": {
  "kernelspec": {
   "display_name": "Python 3",
   "language": "python",
   "name": "python3"
  },
  "language_info": {
   "codemirror_mode": {
    "name": "ipython",
    "version": 3
   },
   "file_extension": ".py",
   "mimetype": "text/x-python",
   "name": "python",
   "nbconvert_exporter": "python",
   "pygments_lexer": "ipython3",
   "version": "3.8.5"
  }
 },
 "nbformat": 4,
 "nbformat_minor": 4
}
